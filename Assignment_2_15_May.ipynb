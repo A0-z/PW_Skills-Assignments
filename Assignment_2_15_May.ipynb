{
 "cells": [
  {
   "cell_type": "markdown",
   "id": "af8a3ec6",
   "metadata": {},
   "source": [
    "# ASSIGNMENT-2 15 MAY"
   ]
  },
  {
   "cell_type": "markdown",
   "id": "18a3e749",
   "metadata": {},
   "source": [
    "### ANS-1 \n",
    "We use # to comment code in Python.\n",
    "There are singe line comments for which we use # and there are multiline comments for which we we triple quotes(''' ''')."
   ]
  },
  {
   "cell_type": "markdown",
   "id": "a9a9202d",
   "metadata": {},
   "source": [
    "### ANS-2\n",
    "A variable is a place where we store any kind of data temperarily.\n",
    "To assign a value to a variable we just give variable name equals to the data.\n",
    "For ex-"
   ]
  },
  {
   "cell_type": "code",
   "execution_count": 1,
   "id": "e9d0e730",
   "metadata": {},
   "outputs": [],
   "source": [
    "var1= 'abc'"
   ]
  },
  {
   "cell_type": "markdown",
   "id": "8425f5de",
   "metadata": {},
   "source": [
    "### ANS-3\n",
    "We can use type casting to convert one data type to another in Python."
   ]
  },
  {
   "cell_type": "code",
   "execution_count": 3,
   "id": "5647bb62",
   "metadata": {},
   "outputs": [
    {
     "data": {
      "text/plain": [
       "111"
      ]
     },
     "execution_count": 3,
     "metadata": {},
     "output_type": "execute_result"
    }
   ],
   "source": [
    "a='111'\n",
    "a=int(a)\n",
    "a"
   ]
  },
  {
   "cell_type": "markdown",
   "id": "f5e3e005",
   "metadata": {},
   "source": [
    "### ANS-4\n",
    "We will start by checking if Python is installed on our PC by writing python --version in cmd. \n",
    "Then will will give the path where we want store our Python file.\n",
    "Then we will give the name of file with .py extension.\n",
    "Then we can write our code in cmd, for ex\n",
    "### (echo print('Hello World') >> name.py)\n",
    "This will write the code in the file and to run the code we can just give the file path, for ex\n",
    "### (C:\\Desktop\\name.py)"
   ]
  },
  {
   "cell_type": "markdown",
   "id": "044c5021",
   "metadata": {},
   "source": [
    "### ANS-5"
   ]
  },
  {
   "cell_type": "code",
   "execution_count": 4,
   "id": "fa8f90e5",
   "metadata": {},
   "outputs": [],
   "source": [
    "my_list=[1,2,3,4,5]"
   ]
  },
  {
   "cell_type": "code",
   "execution_count": 6,
   "id": "cee097da",
   "metadata": {},
   "outputs": [
    {
     "data": {
      "text/plain": [
       "[2, 3]"
      ]
     },
     "execution_count": 6,
     "metadata": {},
     "output_type": "execute_result"
    }
   ],
   "source": [
    "my_list[1:3]"
   ]
  },
  {
   "cell_type": "markdown",
   "id": "94e10329",
   "metadata": {},
   "source": [
    "### ANS-6\n",
    "Complex numbers in mathematics are those which have an imaginary part along with the real number, for ex- 3+2i."
   ]
  },
  {
   "cell_type": "code",
   "execution_count": 8,
   "id": "c34e3d5b",
   "metadata": {},
   "outputs": [
    {
     "data": {
      "text/plain": [
       "complex"
      ]
     },
     "execution_count": 8,
     "metadata": {},
     "output_type": "execute_result"
    }
   ],
   "source": [
    "cn=3+4j\n",
    "type(cn)"
   ]
  },
  {
   "cell_type": "markdown",
   "id": "d1804365",
   "metadata": {},
   "source": [
    "\n"
   ]
  },
  {
   "cell_type": "markdown",
   "id": "a7afff74",
   "metadata": {},
   "source": [
    "### ANS-7"
   ]
  },
  {
   "cell_type": "code",
   "execution_count": 10,
   "id": "16a66538",
   "metadata": {},
   "outputs": [],
   "source": [
    "Age= 25\n"
   ]
  },
  {
   "cell_type": "markdown",
   "id": "5e985c97",
   "metadata": {},
   "source": [
    "### ANS-8"
   ]
  },
  {
   "cell_type": "code",
   "execution_count": 11,
   "id": "4ee1a0f4",
   "metadata": {},
   "outputs": [
    {
     "data": {
      "text/plain": [
       "float"
      ]
     },
     "execution_count": 11,
     "metadata": {},
     "output_type": "execute_result"
    }
   ],
   "source": [
    "price=9.99\n",
    "type(price)"
   ]
  },
  {
   "cell_type": "markdown",
   "id": "89dee99a",
   "metadata": {},
   "source": [
    "### ANS-9"
   ]
  },
  {
   "cell_type": "code",
   "execution_count": 14,
   "id": "80dac403",
   "metadata": {},
   "outputs": [
    {
     "data": {
      "text/plain": [
       "10"
      ]
     },
     "execution_count": 14,
     "metadata": {},
     "output_type": "execute_result"
    }
   ],
   "source": [
    "name= 'First Last'\n",
    "len(name)"
   ]
  },
  {
   "cell_type": "markdown",
   "id": "c01f4f60",
   "metadata": {},
   "source": [
    "### ANS-10"
   ]
  },
  {
   "cell_type": "code",
   "execution_count": 16,
   "id": "f80385b0",
   "metadata": {},
   "outputs": [
    {
     "data": {
      "text/plain": [
       "'World'"
      ]
     },
     "execution_count": 16,
     "metadata": {},
     "output_type": "execute_result"
    }
   ],
   "source": [
    "str= 'Hello, World'\n",
    "s_str=str[7:12]\n",
    "s_str"
   ]
  },
  {
   "cell_type": "markdown",
   "id": "c5ab66bf",
   "metadata": {},
   "source": [
    "### ANS-11"
   ]
  },
  {
   "cell_type": "code",
   "execution_count": 27,
   "id": "57cff600",
   "metadata": {},
   "outputs": [],
   "source": [
    "is_student= True"
   ]
  },
  {
   "cell_type": "code",
   "execution_count": null,
   "id": "fec1caf4",
   "metadata": {},
   "outputs": [],
   "source": []
  }
 ],
 "metadata": {
  "kernelspec": {
   "display_name": "Python 3 (ipykernel)",
   "language": "python",
   "name": "python3"
  },
  "language_info": {
   "codemirror_mode": {
    "name": "ipython",
    "version": 3
   },
   "file_extension": ".py",
   "mimetype": "text/x-python",
   "name": "python",
   "nbconvert_exporter": "python",
   "pygments_lexer": "ipython3",
   "version": "3.10.9"
  }
 },
 "nbformat": 4,
 "nbformat_minor": 5
}
