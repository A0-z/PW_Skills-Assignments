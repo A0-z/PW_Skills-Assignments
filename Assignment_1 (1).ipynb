{
 "cells": [
  {
   "cell_type": "code",
   "execution_count": 24,
   "id": "c930b652",
   "metadata": {},
   "outputs": [],
   "source": [
    "#Q1-\n",
    "a1=\"String_Datatype\"\n",
    "a2=[1,2,\"List\",True]\n",
    "a3=3.33\n",
    "a4=(3,5,8,'Tuple')"
   ]
  },
  {
   "cell_type": "code",
   "execution_count": 11,
   "id": "c1f3ee61",
   "metadata": {},
   "outputs": [],
   "source": [
    "#Q2-\n",
    "#(i)\tvar1 = ‘ ‘    ---- String\n",
    "\n",
    "#(ii)\tvar2 = ‘[ DS , ML , Python]’     -----String\n",
    "\n",
    "#(iii)\tvar3 = [ ‘DS’ , ’ML’ , ‘Python’ ]    -----List\n",
    "\n",
    "#(iv)\tvar4 = 1  ---- Integer  \n"
   ]
  },
  {
   "cell_type": "code",
   "execution_count": null,
   "id": "ee9cbb3e",
   "metadata": {},
   "outputs": [],
   "source": [
    "#Q3-\n",
    "# / Division operator- Used to divide two numbers. Ex-\n",
    "10/5\n"
   ]
  },
  {
   "cell_type": "code",
   "execution_count": 18,
   "id": "3133fdee",
   "metadata": {},
   "outputs": [
    {
     "data": {
      "text/plain": [
       "1"
      ]
     },
     "execution_count": 18,
     "metadata": {},
     "output_type": "execute_result"
    }
   ],
   "source": [
    "# % Modulus operator - Used to find remainder. Ex-\n",
    "10%9"
   ]
  },
  {
   "cell_type": "code",
   "execution_count": 20,
   "id": "7c8b89ea",
   "metadata": {},
   "outputs": [
    {
     "data": {
      "text/plain": [
       "3"
      ]
     },
     "execution_count": 20,
     "metadata": {},
     "output_type": "execute_result"
    }
   ],
   "source": [
    "# // Floor division -  Used to find floor value after division. Ex-\n",
    "10//3"
   ]
  },
  {
   "cell_type": "code",
   "execution_count": 21,
   "id": "92f085bc",
   "metadata": {},
   "outputs": [
    {
     "data": {
      "text/plain": [
       "16"
      ]
     },
     "execution_count": 21,
     "metadata": {},
     "output_type": "execute_result"
    }
   ],
   "source": [
    "# ** Power operator - Used  to give power to a number. Ex-\n",
    "2**4"
   ]
  },
  {
   "cell_type": "code",
   "execution_count": 22,
   "id": "bb2f67d6",
   "metadata": {},
   "outputs": [
    {
     "name": "stdout",
     "output_type": "stream",
     "text": [
      "1 <class 'int'>\n",
      "2 <class 'int'>\n",
      "4 <class 'int'>\n",
      "8 <class 'int'>\n",
      "str <class 'str'>\n",
      "[7, 7, 8] <class 'list'>\n",
      "True <class 'bool'>\n",
      "3.69 <class 'float'>\n",
      "(4, 'ss', 7) <class 'tuple'>\n",
      "(4-9j) <class 'complex'>\n"
     ]
    }
   ],
   "source": [
    "#Q4-\n",
    "list=[1,2,4,8,'str',[7,7,8,],True,3.69,(4,'ss',7),4-9j]\n",
    "for i in list:\n",
    "    print(i,type(i))"
   ]
  },
  {
   "cell_type": "code",
   "execution_count": 6,
   "id": "8938cd79",
   "metadata": {},
   "outputs": [
    {
     "name": "stdout",
     "output_type": "stream",
     "text": [
      "A:32\n",
      "B:2\n",
      "32 is divisible by 2, 5 times\n"
     ]
    }
   ],
   "source": [
    "#Q5-\n",
    "A=int(input('A:'))\n",
    "B=int(input('B:'))\n",
    "X=A\n",
    "Y=B\n",
    "count=0\n",
    "while X%Y==0:\n",
    "    count+=1\n",
    "    X=X/Y\n",
    "    if X==1:\n",
    "        print(f'{A} is divisible by {B}, {count} times')\n",
    "        break\n",
    "else:\n",
    "    print('Not divisible')\n",
    "    "
   ]
  },
  {
   "cell_type": "code",
   "execution_count": null,
   "id": "b1602675",
   "metadata": {},
   "outputs": [],
   "source": [
    "#Q6-\n",
    "list1=[1,2,3,4,5,6,7,8,9,10,11,12,13,14,15,16,17,18,19,20,21,22,23,24,25]\n",
    "for i in list1:\n",
    "    if i%3==0:\n",
    "        print(f'{i} is purely divisible by 3')\n",
    "    else:\n",
    "        print(f'{i} is not purely divisible by 3')\n"
   ]
  },
  {
   "cell_type": "code",
   "execution_count": null,
   "id": "57e27d2a",
   "metadata": {},
   "outputs": [],
   "source": [
    "#Q7-\n",
    "'''Mutable datatypes are those in which we can change or edit any particular\n",
    "element whereas in immutable datatypes we can not edit individual elements. For ex, Lists are mutable whereas strings are not.'''\n",
    "list2=[1,2,3]\n",
    "list2[2]=5 #this is possible\n",
    "string=\"Question\"\n",
    "#string[3]=d is not possible. It will give an error."
   ]
  },
  {
   "cell_type": "code",
   "execution_count": null,
   "id": "4f0bda49",
   "metadata": {},
   "outputs": [],
   "source": []
  }
 ],
 "metadata": {
  "kernelspec": {
   "display_name": "Python 3 (ipykernel)",
   "language": "python",
   "name": "python3"
  },
  "language_info": {
   "codemirror_mode": {
    "name": "ipython",
    "version": 3
   },
   "file_extension": ".py",
   "mimetype": "text/x-python",
   "name": "python",
   "nbconvert_exporter": "python",
   "pygments_lexer": "ipython3",
   "version": "3.10.9"
  }
 },
 "nbformat": 4,
 "nbformat_minor": 5
}
